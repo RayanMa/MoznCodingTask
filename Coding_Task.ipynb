{
 "cells": [
  {
   "cell_type": "markdown",
   "id": "2c754051",
   "metadata": {},
   "source": [
    "# Question: Write a python script that uses pandas to find the 3 lowest-paid employees who have done at least 10 projects."
   ]
  },
  {
   "cell_type": "markdown",
   "id": "e172ebdf",
   "metadata": {},
   "source": [
    "## 1.IMPORTING"
   ]
  },
  {
   "cell_type": "markdown",
   "id": "c8d3e2ca",
   "metadata": {},
   "source": [
    "#### #1 First i imported the data genrator code:"
   ]
  },
  {
   "cell_type": "code",
   "execution_count": 168,
   "id": "46073bdf",
   "metadata": {},
   "outputs": [
    {
     "name": "stdout",
     "output_type": "stream",
     "text": [
      "Requirement already satisfied: faker in c:\\users\\rayan\\anaconda3\\lib\\site-packages (13.7.0)\n",
      "Requirement already satisfied: python-dateutil>=2.4 in c:\\users\\rayan\\anaconda3\\lib\\site-packages (from faker) (2.8.2)\n",
      "Requirement already satisfied: six>=1.5 in c:\\users\\rayan\\anaconda3\\lib\\site-packages (from python-dateutil>=2.4->faker) (1.16.0)\n"
     ]
    }
   ],
   "source": [
    "#@title Run this cell to generate the data\n",
    "! pip install faker\n",
    "import numpy as np\n",
    "import pandas as pd\n",
    "import uuid\n",
    "import datetime\n",
    "\n",
    "from faker.providers.person.en import Provider\n",
    "from faker import Faker\n",
    "\n",
    "from faker import Faker\n",
    "fake = Faker()\n",
    "Faker.seed(0)\n",
    "\n",
    "n_employees = 50\n",
    "first_names = pd.Series(list(set(Provider.first_names))).sample(n_employees)\n",
    "df_employees = pd.DataFrame(columns=[\"id\", \"name\", \"salary\"])\n",
    "df_employees[\"name\"] = (first_names).sample(frac=1).values\n",
    "mu = 28_000\n",
    "minimum = 16_000\n",
    "df_employees[\"salary\"] = (np.random.pareto(a=6, size=(50,1)) * mu) + minimum\n",
    "df_employees[\"salary\"] = (df_employees[\"salary\"]/100).astype(int) * 100\n",
    "df_employees[\"id\"] = pd.Series([str(uuid.uuid4()).split('-')[1] for x in range(n_employees)])\n",
    "\n",
    "def create_random_project(number_of_employees, duration, year, is_ongoing=False):\n",
    "    df_projects = pd.DataFrame(index=range(number_of_employees), columns=[\"employee_id\", \"project_id\", \"start_date\", \"end_date\"])\n",
    "    \n",
    "    employees = df_employees.id.sample(number_of_employees)\n",
    "    \n",
    "    start_date = datetime.date(year=year, month=1, day=1)\n",
    "    end_date = datetime.date(year=year+1, month=1, day=1)\n",
    "    project_start_date = fake.date_between(start_date=start_date, end_date=end_date)\n",
    "    project_end_date = project_start_date + datetime.timedelta(days=duration)\n",
    "    \n",
    "    if is_ongoing:\n",
    "        project_end_date = None\n",
    "        \n",
    "    project_id = str(uuid.uuid4()).split('-')[4]\n",
    "    \n",
    "    df_projects[\"employee_id\"] = employees.values\n",
    "    df_projects[\"project_id\"] = project_id\n",
    "    df_projects[\"start_date\"] = project_start_date\n",
    "    df_projects[\"end_date\"] = project_end_date\n",
    "    \n",
    "    \n",
    "    return df_projects\n",
    "\n",
    "n_projects = 150\n",
    "projects = []\n",
    "for proj in range(n_projects):\n",
    "    number_of_employees = np.random.choice([1,2,3,4], replace=True, p=[0.25, 0.5, 0.15, 0.1], size=1)\n",
    "    duration = (np.random.pareto(a=5, size=1) * 30*4) + 14\n",
    "    year = np.random.choice([2017, 2018, 2019, 2020])\n",
    "    is_ongoing = bool(np.random.binomial(n=1, p=0.4)) if year >= 2019 else False\n",
    "    new_project = (create_random_project(number_of_employees=number_of_employees[0], duration=duration[0], year=year, is_ongoing=is_ongoing).values)\n",
    "    \n",
    "    projects.append(new_project)\n",
    "    \n",
    "projects_data = np.vstack(projects)\n",
    "df_projects = (\n",
    "    pd.DataFrame(projects_data, columns=[\"employee_id\", \"project_id\", \"start_date\", \"end_date\"])\n",
    "    .sort_values([\"project_id\", \"start_date\", \"end_date\"])\n",
    "    .reset_index(drop=True)\n",
    ")"
   ]
  },
  {
   "cell_type": "markdown",
   "id": "fb24a85b",
   "metadata": {},
   "source": [
    "#### #2 Then i took a look on the data:"
   ]
  },
  {
   "cell_type": "code",
   "execution_count": 169,
   "id": "5420166b",
   "metadata": {},
   "outputs": [
    {
     "data": {
      "text/html": [
       "<div>\n",
       "<style scoped>\n",
       "    .dataframe tbody tr th:only-of-type {\n",
       "        vertical-align: middle;\n",
       "    }\n",
       "\n",
       "    .dataframe tbody tr th {\n",
       "        vertical-align: top;\n",
       "    }\n",
       "\n",
       "    .dataframe thead th {\n",
       "        text-align: right;\n",
       "    }\n",
       "</style>\n",
       "<table border=\"1\" class=\"dataframe\">\n",
       "  <thead>\n",
       "    <tr style=\"text-align: right;\">\n",
       "      <th></th>\n",
       "      <th>id</th>\n",
       "      <th>name</th>\n",
       "      <th>salary</th>\n",
       "    </tr>\n",
       "  </thead>\n",
       "  <tbody>\n",
       "    <tr>\n",
       "      <th>0</th>\n",
       "      <td>87b4</td>\n",
       "      <td>Amy</td>\n",
       "      <td>17700</td>\n",
       "    </tr>\n",
       "    <tr>\n",
       "      <th>1</th>\n",
       "      <td>e656</td>\n",
       "      <td>Marilla</td>\n",
       "      <td>19500</td>\n",
       "    </tr>\n",
       "    <tr>\n",
       "      <th>2</th>\n",
       "      <td>1331</td>\n",
       "      <td>Achsah</td>\n",
       "      <td>21100</td>\n",
       "    </tr>\n",
       "    <tr>\n",
       "      <th>3</th>\n",
       "      <td>2f83</td>\n",
       "      <td>Rosaria</td>\n",
       "      <td>25900</td>\n",
       "    </tr>\n",
       "    <tr>\n",
       "      <th>4</th>\n",
       "      <td>0970</td>\n",
       "      <td>Shelley</td>\n",
       "      <td>21000</td>\n",
       "    </tr>\n",
       "  </tbody>\n",
       "</table>\n",
       "</div>"
      ],
      "text/plain": [
       "     id     name  salary\n",
       "0  87b4      Amy   17700\n",
       "1  e656  Marilla   19500\n",
       "2  1331   Achsah   21100\n",
       "3  2f83  Rosaria   25900\n",
       "4  0970  Shelley   21000"
      ]
     },
     "execution_count": 169,
     "metadata": {},
     "output_type": "execute_result"
    }
   ],
   "source": [
    "df_employees.head(5)"
   ]
  },
  {
   "cell_type": "code",
   "execution_count": 170,
   "id": "46ff9fe0",
   "metadata": {},
   "outputs": [
    {
     "data": {
      "text/html": [
       "<div>\n",
       "<style scoped>\n",
       "    .dataframe tbody tr th:only-of-type {\n",
       "        vertical-align: middle;\n",
       "    }\n",
       "\n",
       "    .dataframe tbody tr th {\n",
       "        vertical-align: top;\n",
       "    }\n",
       "\n",
       "    .dataframe thead th {\n",
       "        text-align: right;\n",
       "    }\n",
       "</style>\n",
       "<table border=\"1\" class=\"dataframe\">\n",
       "  <thead>\n",
       "    <tr style=\"text-align: right;\">\n",
       "      <th></th>\n",
       "      <th>employee_id</th>\n",
       "      <th>project_id</th>\n",
       "      <th>start_date</th>\n",
       "      <th>end_date</th>\n",
       "    </tr>\n",
       "  </thead>\n",
       "  <tbody>\n",
       "    <tr>\n",
       "      <th>0</th>\n",
       "      <td>a804</td>\n",
       "      <td>00a481377f9e</td>\n",
       "      <td>2019-03-20</td>\n",
       "      <td>None</td>\n",
       "    </tr>\n",
       "    <tr>\n",
       "      <th>1</th>\n",
       "      <td>b199</td>\n",
       "      <td>00a481377f9e</td>\n",
       "      <td>2019-03-20</td>\n",
       "      <td>None</td>\n",
       "    </tr>\n",
       "    <tr>\n",
       "      <th>2</th>\n",
       "      <td>4890</td>\n",
       "      <td>00a481377f9e</td>\n",
       "      <td>2019-03-20</td>\n",
       "      <td>None</td>\n",
       "    </tr>\n",
       "    <tr>\n",
       "      <th>3</th>\n",
       "      <td>e975</td>\n",
       "      <td>00a481377f9e</td>\n",
       "      <td>2019-03-20</td>\n",
       "      <td>None</td>\n",
       "    </tr>\n",
       "    <tr>\n",
       "      <th>4</th>\n",
       "      <td>b68b</td>\n",
       "      <td>015b88a87534</td>\n",
       "      <td>2019-10-07</td>\n",
       "      <td>2019-12-05</td>\n",
       "    </tr>\n",
       "  </tbody>\n",
       "</table>\n",
       "</div>"
      ],
      "text/plain": [
       "  employee_id    project_id  start_date    end_date\n",
       "0        a804  00a481377f9e  2019-03-20        None\n",
       "1        b199  00a481377f9e  2019-03-20        None\n",
       "2        4890  00a481377f9e  2019-03-20        None\n",
       "3        e975  00a481377f9e  2019-03-20        None\n",
       "4        b68b  015b88a87534  2019-10-07  2019-12-05"
      ]
     },
     "execution_count": 170,
     "metadata": {},
     "output_type": "execute_result"
    }
   ],
   "source": [
    "df_projects.head(5)\n"
   ]
  },
  {
   "cell_type": "markdown",
   "id": "ece9ec41",
   "metadata": {},
   "source": [
    "## 2.Cleaning"
   ]
  },
  {
   "cell_type": "markdown",
   "id": "40bdc2bc",
   "metadata": {},
   "source": [
    "#### #3 Then i calculated the number of apperance of each Employee ID and added it to the \"df_employees\" Dataframe:"
   ]
  },
  {
   "cell_type": "code",
   "execution_count": 171,
   "id": "d2138e56",
   "metadata": {},
   "outputs": [
    {
     "data": {
      "text/plain": [
       "a804    12\n",
       "9d75    11\n",
       "a46d    11\n",
       "85c0    10\n",
       "0139     9\n",
       "1fb7     9\n",
       "5171     9\n",
       "23e0     9\n",
       "5c45     9\n",
       "e50b     9\n",
       "948c     8\n",
       "af50     8\n",
       "050a     8\n",
       "2301     8\n",
       "fce1     8\n",
       "9371     8\n",
       "4890     8\n",
       "b199     8\n",
       "ac8e     7\n",
       "f937     7\n",
       "eb7e     7\n",
       "f4a9     7\n",
       "90c4     7\n",
       "0fa2     7\n",
       "e975     7\n",
       "b68b     7\n",
       "4747     7\n",
       "f41d     7\n",
       "3128     7\n",
       "2517     6\n",
       "aacb     6\n",
       "1331     5\n",
       "c781     5\n",
       "47f0     5\n",
       "e656     5\n",
       "6ecb     5\n",
       "086a     5\n",
       "197c     5\n",
       "53ca     5\n",
       "21c5     4\n",
       "c2bd     4\n",
       "87b4     4\n",
       "f4ed     4\n",
       "2f83     3\n",
       "b448     3\n",
       "0bb5     3\n",
       "0970     3\n",
       "aadd     2\n",
       "5208     2\n",
       "4c9d     2\n",
       "Name: employee_id, dtype: int64"
      ]
     },
     "execution_count": 171,
     "metadata": {},
     "output_type": "execute_result"
    }
   ],
   "source": [
    "df_projects['employee_id'].value_counts()"
   ]
  },
  {
   "cell_type": "code",
   "execution_count": 172,
   "id": "1ab98eb6",
   "metadata": {},
   "outputs": [],
   "source": [
    "#assigned new varibale \"amount_projects\" to store the counts\n",
    "amount_projects=df_projects[\"employee_id\"].value_counts()"
   ]
  },
  {
   "cell_type": "code",
   "execution_count": 173,
   "id": "587c5219",
   "metadata": {},
   "outputs": [],
   "source": [
    "#i set a name for the varibal to appere in the dataframe as a column\n",
    "amount_projects.name=\"amount_projects\""
   ]
  },
  {
   "cell_type": "code",
   "execution_count": 174,
   "id": "ce474547",
   "metadata": {},
   "outputs": [],
   "source": [
    "# i set the index as \"id\"\n",
    "df_employees.set_index(\"id\", drop=True, inplace=True)"
   ]
  },
  {
   "cell_type": "code",
   "execution_count": 175,
   "id": "d961b8a8",
   "metadata": {},
   "outputs": [],
   "source": [
    "#i added the new column to the df_employees dataframe\n",
    "df_employees=df_employees.join(amount_projects, how=\"left\")"
   ]
  },
  {
   "cell_type": "code",
   "execution_count": 176,
   "id": "2e5aa3f5",
   "metadata": {},
   "outputs": [
    {
     "data": {
      "text/html": [
       "<div>\n",
       "<style scoped>\n",
       "    .dataframe tbody tr th:only-of-type {\n",
       "        vertical-align: middle;\n",
       "    }\n",
       "\n",
       "    .dataframe tbody tr th {\n",
       "        vertical-align: top;\n",
       "    }\n",
       "\n",
       "    .dataframe thead th {\n",
       "        text-align: right;\n",
       "    }\n",
       "</style>\n",
       "<table border=\"1\" class=\"dataframe\">\n",
       "  <thead>\n",
       "    <tr style=\"text-align: right;\">\n",
       "      <th></th>\n",
       "      <th>name</th>\n",
       "      <th>salary</th>\n",
       "      <th>amount_projects</th>\n",
       "    </tr>\n",
       "    <tr>\n",
       "      <th>id</th>\n",
       "      <th></th>\n",
       "      <th></th>\n",
       "      <th></th>\n",
       "    </tr>\n",
       "  </thead>\n",
       "  <tbody>\n",
       "    <tr>\n",
       "      <th>87b4</th>\n",
       "      <td>Amy</td>\n",
       "      <td>17700</td>\n",
       "      <td>4</td>\n",
       "    </tr>\n",
       "    <tr>\n",
       "      <th>e656</th>\n",
       "      <td>Marilla</td>\n",
       "      <td>19500</td>\n",
       "      <td>5</td>\n",
       "    </tr>\n",
       "    <tr>\n",
       "      <th>1331</th>\n",
       "      <td>Achsah</td>\n",
       "      <td>21100</td>\n",
       "      <td>5</td>\n",
       "    </tr>\n",
       "    <tr>\n",
       "      <th>2f83</th>\n",
       "      <td>Rosaria</td>\n",
       "      <td>25900</td>\n",
       "      <td>3</td>\n",
       "    </tr>\n",
       "    <tr>\n",
       "      <th>0970</th>\n",
       "      <td>Shelley</td>\n",
       "      <td>21000</td>\n",
       "      <td>3</td>\n",
       "    </tr>\n",
       "  </tbody>\n",
       "</table>\n",
       "</div>"
      ],
      "text/plain": [
       "         name  salary  amount_projects\n",
       "id                                    \n",
       "87b4      Amy   17700                4\n",
       "e656  Marilla   19500                5\n",
       "1331   Achsah   21100                5\n",
       "2f83  Rosaria   25900                3\n",
       "0970  Shelley   21000                3"
      ]
     },
     "execution_count": 176,
     "metadata": {},
     "output_type": "execute_result"
    }
   ],
   "source": [
    "#printed the dataframe to check\n",
    "df_employees.head()"
   ]
  },
  {
   "cell_type": "code",
   "execution_count": 177,
   "id": "5dcf3440",
   "metadata": {},
   "outputs": [
    {
     "data": {
      "text/plain": [
       "<bound method DataFrame.reset_index of            name  salary  amount_projects\n",
       "id                                      \n",
       "87b4        Amy   17700                4\n",
       "e656    Marilla   19500                5\n",
       "1331     Achsah   21100                5\n",
       "2f83    Rosaria   25900                3\n",
       "0970    Shelley   21000                3\n",
       "5c45     Benita   18900                9\n",
       "aadd     Clemie   21100                2\n",
       "0139      Mills   16800                9\n",
       "197c       Vere   32400                5\n",
       "af50      Craig   28600                8\n",
       "9d75     Scotty   16700               11\n",
       "21c5    Delfina   26500                4\n",
       "4c9d     Elisha   17700                2\n",
       "c2bd      Murry   19700                4\n",
       "a804      Kyrie   29200               12\n",
       "0fa2     Chanie   25200                7\n",
       "4747    Aracely   16600                7\n",
       "85c0       Erin   18900               10\n",
       "b199      Devin   17200                8\n",
       "e975  Christine   18600                7\n",
       "2301     Huldah   18000                8\n",
       "47f0     Jazmyn   24700                5\n",
       "ac8e      Elzie   16700                7\n",
       "f4a9       Clay   22000                7\n",
       "086a      Arkie   16100                5\n",
       "b448    Racquel   16300                3\n",
       "c781     Savana   18300                5\n",
       "4890    Carleen   22600                8\n",
       "1fb7        Gil   18500                9\n",
       "f4ed     Louisa   36800                4\n",
       "e50b  Ernestina   16900                9\n",
       "aacb      Nicky   17100                6\n",
       "fce1      Vance   17200                8\n",
       "3128    Kimball   16200                7\n",
       "948c    Yoselin   16300                8\n",
       "5208  Domonique   19600                2\n",
       "a46d      Holli   16500               11\n",
       "90c4   Algernon   19600                7\n",
       "5171       Rene   38400                9\n",
       "9371    Belinda   18200                8\n",
       "eb7e       Toni   16200                7\n",
       "f937     Emmett   17700                7\n",
       "b68b    Deondre   22200                7\n",
       "2517     Raiden   16200                6\n",
       "0bb5      Terry   16100                3\n",
       "f41d    Micayla   42200                7\n",
       "53ca       Ruby   18600                5\n",
       "6ecb      Mazie   17900                5\n",
       "23e0    Reginal   17600                9\n",
       "050a    Micaela   20800                8>"
      ]
     },
     "execution_count": 177,
     "metadata": {},
     "output_type": "execute_result"
    }
   ],
   "source": [
    "#i reset the index to prepare the dataframe for merging\n",
    "df_employees.reset_index"
   ]
  },
  {
   "cell_type": "markdown",
   "id": "1045ab54",
   "metadata": {},
   "source": [
    "#### #4 i merged the two datasets into \"df\" and prepared it for the next step:"
   ]
  },
  {
   "cell_type": "code",
   "execution_count": 178,
   "id": "500f7420",
   "metadata": {},
   "outputs": [],
   "source": [
    "#renamed the employeee_id colmun to id so i can merge by id column\n",
    "df_projects.rename(columns = {'employee_id':'id'}, inplace = True)"
   ]
  },
  {
   "cell_type": "code",
   "execution_count": 179,
   "id": "8356a638",
   "metadata": {},
   "outputs": [],
   "source": [
    "#merged the two dataframes\n",
    "df = pd.merge(df_employees, df_projects, on=\"id\")"
   ]
  },
  {
   "cell_type": "code",
   "execution_count": 180,
   "id": "4930cede",
   "metadata": {},
   "outputs": [
    {
     "data": {
      "text/plain": [
       "275"
      ]
     },
     "execution_count": 180,
     "metadata": {},
     "output_type": "execute_result"
    }
   ],
   "source": [
    "#before dropping\n",
    "#checking for duplicates to remove the duplicated ids\n",
    "df.id.duplicated().sum()"
   ]
  },
  {
   "cell_type": "code",
   "execution_count": 181,
   "id": "b119c64e",
   "metadata": {},
   "outputs": [
    {
     "data": {
      "text/html": [
       "<div>\n",
       "<style scoped>\n",
       "    .dataframe tbody tr th:only-of-type {\n",
       "        vertical-align: middle;\n",
       "    }\n",
       "\n",
       "    .dataframe tbody tr th {\n",
       "        vertical-align: top;\n",
       "    }\n",
       "\n",
       "    .dataframe thead th {\n",
       "        text-align: right;\n",
       "    }\n",
       "</style>\n",
       "<table border=\"1\" class=\"dataframe\">\n",
       "  <thead>\n",
       "    <tr style=\"text-align: right;\">\n",
       "      <th></th>\n",
       "      <th>id</th>\n",
       "      <th>name</th>\n",
       "      <th>salary</th>\n",
       "      <th>amount_projects</th>\n",
       "      <th>project_id</th>\n",
       "      <th>start_date</th>\n",
       "      <th>end_date</th>\n",
       "    </tr>\n",
       "  </thead>\n",
       "  <tbody>\n",
       "    <tr>\n",
       "      <th>0</th>\n",
       "      <td>87b4</td>\n",
       "      <td>Amy</td>\n",
       "      <td>17700</td>\n",
       "      <td>4</td>\n",
       "      <td>054b523a576e</td>\n",
       "      <td>2017-09-21</td>\n",
       "      <td>2017-10-08</td>\n",
       "    </tr>\n",
       "    <tr>\n",
       "      <th>4</th>\n",
       "      <td>e656</td>\n",
       "      <td>Marilla</td>\n",
       "      <td>19500</td>\n",
       "      <td>5</td>\n",
       "      <td>8a32f36026e5</td>\n",
       "      <td>2018-11-18</td>\n",
       "      <td>2018-12-24</td>\n",
       "    </tr>\n",
       "    <tr>\n",
       "      <th>9</th>\n",
       "      <td>1331</td>\n",
       "      <td>Achsah</td>\n",
       "      <td>21100</td>\n",
       "      <td>5</td>\n",
       "      <td>3c912604255e</td>\n",
       "      <td>2018-12-13</td>\n",
       "      <td>2019-02-10</td>\n",
       "    </tr>\n",
       "    <tr>\n",
       "      <th>14</th>\n",
       "      <td>2f83</td>\n",
       "      <td>Rosaria</td>\n",
       "      <td>25900</td>\n",
       "      <td>3</td>\n",
       "      <td>045f339fb707</td>\n",
       "      <td>2020-04-30</td>\n",
       "      <td>2020-05-16</td>\n",
       "    </tr>\n",
       "    <tr>\n",
       "      <th>17</th>\n",
       "      <td>0970</td>\n",
       "      <td>Shelley</td>\n",
       "      <td>21000</td>\n",
       "      <td>3</td>\n",
       "      <td>a6fb65cd632c</td>\n",
       "      <td>2017-09-13</td>\n",
       "      <td>2017-09-27</td>\n",
       "    </tr>\n",
       "  </tbody>\n",
       "</table>\n",
       "</div>"
      ],
      "text/plain": [
       "      id     name  salary  amount_projects    project_id  start_date  \\\n",
       "0   87b4      Amy   17700                4  054b523a576e  2017-09-21   \n",
       "4   e656  Marilla   19500                5  8a32f36026e5  2018-11-18   \n",
       "9   1331   Achsah   21100                5  3c912604255e  2018-12-13   \n",
       "14  2f83  Rosaria   25900                3  045f339fb707  2020-04-30   \n",
       "17  0970  Shelley   21000                3  a6fb65cd632c  2017-09-13   \n",
       "\n",
       "      end_date  \n",
       "0   2017-10-08  \n",
       "4   2018-12-24  \n",
       "9   2019-02-10  \n",
       "14  2020-05-16  \n",
       "17  2017-09-27  "
      ]
     },
     "execution_count": 181,
     "metadata": {},
     "output_type": "execute_result"
    }
   ],
   "source": [
    "#dropped the duplicates\n",
    "df=df.drop_duplicates('id')\n",
    "df.head()"
   ]
  },
  {
   "cell_type": "code",
   "execution_count": 182,
   "id": "7f3a60a5",
   "metadata": {},
   "outputs": [
    {
     "data": {
      "text/plain": [
       "0"
      ]
     },
     "execution_count": 182,
     "metadata": {},
     "output_type": "execute_result"
    }
   ],
   "source": [
    "#aftrer dropping\n",
    "df.id.duplicated().sum()"
   ]
  },
  {
   "cell_type": "code",
   "execution_count": 183,
   "id": "ef693a28",
   "metadata": {},
   "outputs": [
    {
     "data": {
      "text/html": [
       "<div>\n",
       "<style scoped>\n",
       "    .dataframe tbody tr th:only-of-type {\n",
       "        vertical-align: middle;\n",
       "    }\n",
       "\n",
       "    .dataframe tbody tr th {\n",
       "        vertical-align: top;\n",
       "    }\n",
       "\n",
       "    .dataframe thead th {\n",
       "        text-align: right;\n",
       "    }\n",
       "</style>\n",
       "<table border=\"1\" class=\"dataframe\">\n",
       "  <thead>\n",
       "    <tr style=\"text-align: right;\">\n",
       "      <th></th>\n",
       "      <th>id</th>\n",
       "      <th>name</th>\n",
       "      <th>salary</th>\n",
       "      <th>amount_projects</th>\n",
       "    </tr>\n",
       "  </thead>\n",
       "  <tbody>\n",
       "    <tr>\n",
       "      <th>0</th>\n",
       "      <td>87b4</td>\n",
       "      <td>Amy</td>\n",
       "      <td>17700</td>\n",
       "      <td>4</td>\n",
       "    </tr>\n",
       "    <tr>\n",
       "      <th>4</th>\n",
       "      <td>e656</td>\n",
       "      <td>Marilla</td>\n",
       "      <td>19500</td>\n",
       "      <td>5</td>\n",
       "    </tr>\n",
       "    <tr>\n",
       "      <th>9</th>\n",
       "      <td>1331</td>\n",
       "      <td>Achsah</td>\n",
       "      <td>21100</td>\n",
       "      <td>5</td>\n",
       "    </tr>\n",
       "    <tr>\n",
       "      <th>14</th>\n",
       "      <td>2f83</td>\n",
       "      <td>Rosaria</td>\n",
       "      <td>25900</td>\n",
       "      <td>3</td>\n",
       "    </tr>\n",
       "    <tr>\n",
       "      <th>17</th>\n",
       "      <td>0970</td>\n",
       "      <td>Shelley</td>\n",
       "      <td>21000</td>\n",
       "      <td>3</td>\n",
       "    </tr>\n",
       "  </tbody>\n",
       "</table>\n",
       "</div>"
      ],
      "text/plain": [
       "      id     name  salary  amount_projects\n",
       "0   87b4      Amy   17700                4\n",
       "4   e656  Marilla   19500                5\n",
       "9   1331   Achsah   21100                5\n",
       "14  2f83  Rosaria   25900                3\n",
       "17  0970  Shelley   21000                3"
      ]
     },
     "execution_count": 183,
     "metadata": {},
     "output_type": "execute_result"
    }
   ],
   "source": [
    "#dropping the not needed columns\n",
    "df=df.drop(['project_id', 'start_date','end_date'], axis=1)\n",
    "df.head(5)"
   ]
  },
  {
   "cell_type": "markdown",
   "id": "ccbe08c1",
   "metadata": {},
   "source": [
    "## 3.Sorting"
   ]
  },
  {
   "cell_type": "markdown",
   "id": "973941ea",
   "metadata": {},
   "source": [
    "##### #5 i filtered the dataframe by number of projects to leave only employees with 10 or more projects:"
   ]
  },
  {
   "cell_type": "code",
   "execution_count": 184,
   "id": "71b8afe2",
   "metadata": {
    "scrolled": true
   },
   "outputs": [
    {
     "data": {
      "text/html": [
       "<div>\n",
       "<style scoped>\n",
       "    .dataframe tbody tr th:only-of-type {\n",
       "        vertical-align: middle;\n",
       "    }\n",
       "\n",
       "    .dataframe tbody tr th {\n",
       "        vertical-align: top;\n",
       "    }\n",
       "\n",
       "    .dataframe thead th {\n",
       "        text-align: right;\n",
       "    }\n",
       "</style>\n",
       "<table border=\"1\" class=\"dataframe\">\n",
       "  <thead>\n",
       "    <tr style=\"text-align: right;\">\n",
       "      <th></th>\n",
       "      <th>id</th>\n",
       "      <th>name</th>\n",
       "      <th>salary</th>\n",
       "      <th>amount_projects</th>\n",
       "    </tr>\n",
       "  </thead>\n",
       "  <tbody>\n",
       "    <tr>\n",
       "      <th>53</th>\n",
       "      <td>9d75</td>\n",
       "      <td>Scotty</td>\n",
       "      <td>16700</td>\n",
       "      <td>11</td>\n",
       "    </tr>\n",
       "    <tr>\n",
       "      <th>74</th>\n",
       "      <td>a804</td>\n",
       "      <td>Kyrie</td>\n",
       "      <td>29200</td>\n",
       "      <td>12</td>\n",
       "    </tr>\n",
       "    <tr>\n",
       "      <th>100</th>\n",
       "      <td>85c0</td>\n",
       "      <td>Erin</td>\n",
       "      <td>18900</td>\n",
       "      <td>10</td>\n",
       "    </tr>\n",
       "    <tr>\n",
       "      <th>226</th>\n",
       "      <td>a46d</td>\n",
       "      <td>Holli</td>\n",
       "      <td>16500</td>\n",
       "      <td>11</td>\n",
       "    </tr>\n",
       "  </tbody>\n",
       "</table>\n",
       "</div>"
      ],
      "text/plain": [
       "       id    name  salary  amount_projects\n",
       "53   9d75  Scotty   16700               11\n",
       "74   a804   Kyrie   29200               12\n",
       "100  85c0    Erin   18900               10\n",
       "226  a46d   Holli   16500               11"
      ]
     },
     "execution_count": 184,
     "metadata": {},
     "output_type": "execute_result"
    }
   ],
   "source": [
    "more_than_10=df[df['amount_projects']>=10]\n",
    "more_than_10"
   ]
  },
  {
   "cell_type": "markdown",
   "id": "427406e4",
   "metadata": {},
   "source": [
    "##### #6 finally i sorted the remining employees by salary to see the lowest paid employees with 10 or more projects:"
   ]
  },
  {
   "cell_type": "code",
   "execution_count": 185,
   "id": "a0187814",
   "metadata": {},
   "outputs": [
    {
     "data": {
      "text/html": [
       "<div>\n",
       "<style scoped>\n",
       "    .dataframe tbody tr th:only-of-type {\n",
       "        vertical-align: middle;\n",
       "    }\n",
       "\n",
       "    .dataframe tbody tr th {\n",
       "        vertical-align: top;\n",
       "    }\n",
       "\n",
       "    .dataframe thead th {\n",
       "        text-align: right;\n",
       "    }\n",
       "</style>\n",
       "<table border=\"1\" class=\"dataframe\">\n",
       "  <thead>\n",
       "    <tr style=\"text-align: right;\">\n",
       "      <th></th>\n",
       "      <th>id</th>\n",
       "      <th>name</th>\n",
       "      <th>salary</th>\n",
       "      <th>amount_projects</th>\n",
       "    </tr>\n",
       "  </thead>\n",
       "  <tbody>\n",
       "    <tr>\n",
       "      <th>226</th>\n",
       "      <td>a46d</td>\n",
       "      <td>Holli</td>\n",
       "      <td>16500</td>\n",
       "      <td>11</td>\n",
       "    </tr>\n",
       "    <tr>\n",
       "      <th>53</th>\n",
       "      <td>9d75</td>\n",
       "      <td>Scotty</td>\n",
       "      <td>16700</td>\n",
       "      <td>11</td>\n",
       "    </tr>\n",
       "    <tr>\n",
       "      <th>100</th>\n",
       "      <td>85c0</td>\n",
       "      <td>Erin</td>\n",
       "      <td>18900</td>\n",
       "      <td>10</td>\n",
       "    </tr>\n",
       "    <tr>\n",
       "      <th>74</th>\n",
       "      <td>a804</td>\n",
       "      <td>Kyrie</td>\n",
       "      <td>29200</td>\n",
       "      <td>12</td>\n",
       "    </tr>\n",
       "  </tbody>\n",
       "</table>\n",
       "</div>"
      ],
      "text/plain": [
       "       id    name  salary  amount_projects\n",
       "226  a46d   Holli   16500               11\n",
       "53   9d75  Scotty   16700               11\n",
       "100  85c0    Erin   18900               10\n",
       "74   a804   Kyrie   29200               12"
      ]
     },
     "execution_count": 185,
     "metadata": {},
     "output_type": "execute_result"
    }
   ],
   "source": [
    "more_than_10.sort_values(\"salary\")"
   ]
  },
  {
   "cell_type": "code",
   "execution_count": null,
   "id": "f41c8bcd",
   "metadata": {},
   "outputs": [],
   "source": []
  },
  {
   "cell_type": "code",
   "execution_count": null,
   "id": "c8143d26",
   "metadata": {},
   "outputs": [],
   "source": []
  }
 ],
 "metadata": {
  "kernelspec": {
   "display_name": "Python 3 (ipykernel)",
   "language": "python",
   "name": "python3"
  },
  "language_info": {
   "codemirror_mode": {
    "name": "ipython",
    "version": 3
   },
   "file_extension": ".py",
   "mimetype": "text/x-python",
   "name": "python",
   "nbconvert_exporter": "python",
   "pygments_lexer": "ipython3",
   "version": "3.9.7"
  }
 },
 "nbformat": 4,
 "nbformat_minor": 5
}
